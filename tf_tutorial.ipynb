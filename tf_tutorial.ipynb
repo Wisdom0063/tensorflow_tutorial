{
 "cells": [
  {
   "cell_type": "code",
   "execution_count": 13,
   "metadata": {},
   "outputs": [],
   "source": [
    "import tensorflow as tf"
   ]
  },
  {
   "cell_type": "code",
   "execution_count": 14,
   "metadata": {},
   "outputs": [],
   "source": [
    "%matplotlib inline"
   ]
  },
  {
   "cell_type": "code",
   "execution_count": 15,
   "metadata": {},
   "outputs": [],
   "source": [
    "import numpy as np"
   ]
  },
  {
   "cell_type": "code",
   "execution_count": 16,
   "metadata": {},
   "outputs": [],
   "source": [
    "import sys"
   ]
  },
  {
   "cell_type": "code",
   "execution_count": 17,
   "metadata": {},
   "outputs": [],
   "source": [
    "import pickle"
   ]
  },
  {
   "cell_type": "code",
   "execution_count": 18,
   "metadata": {},
   "outputs": [],
   "source": [
    "import matplotlib"
   ]
  },
  {
   "cell_type": "code",
   "execution_count": 19,
   "metadata": {},
   "outputs": [
    {
     "name": "stdout",
     "output_type": "stream",
     "text": [
      "Collecting package metadata (current_repodata.json): done\n",
      "Solving environment: done\n",
      "\n",
      "# All requested packages already installed.\n",
      "\n"
     ]
    }
   ],
   "source": [
    "! conda install numpy -y"
   ]
  },
  {
   "cell_type": "code",
   "execution_count": 20,
   "metadata": {},
   "outputs": [
    {
     "name": "stdout",
     "output_type": "stream",
     "text": [
      "Collecting package metadata (current_repodata.json): done\n",
      "Solving environment: done\n",
      "\n",
      "# All requested packages already installed.\n",
      "\n"
     ]
    }
   ],
   "source": [
    "! conda install pandas"
   ]
  },
  {
   "cell_type": "code",
   "execution_count": 21,
   "metadata": {},
   "outputs": [],
   "source": [
    "import pandas as pd"
   ]
  },
  {
   "cell_type": "code",
   "execution_count": 22,
   "metadata": {},
   "outputs": [],
   "source": [
    "hello = tf.constant('hello, world')"
   ]
  },
  {
   "cell_type": "code",
   "execution_count": 23,
   "metadata": {},
   "outputs": [
    {
     "name": "stdout",
     "output_type": "stream",
     "text": [
      "tf.Tensor(b'hello, world', shape=(), dtype=string)\n"
     ]
    }
   ],
   "source": [
    "print(hello)"
   ]
  },
  {
   "cell_type": "code",
   "execution_count": 24,
   "metadata": {},
   "outputs": [],
   "source": [
    "sampleConstant = tf.constant(1 , tf.int16, name=\"sampleConstant\")"
   ]
  },
  {
   "cell_type": "code",
   "execution_count": 25,
   "metadata": {},
   "outputs": [
    {
     "name": "stdout",
     "output_type": "stream",
     "text": [
      "tf.Tensor(1, shape=(), dtype=int16)\n"
     ]
    }
   ],
   "source": [
    "print(sampleConstant)"
   ]
  },
  {
   "cell_type": "code",
   "execution_count": 26,
   "metadata": {},
   "outputs": [],
   "source": [
    "zeros = tf.zeros([10, 10], tf.int16)"
   ]
  },
  {
   "cell_type": "code",
   "execution_count": 27,
   "metadata": {},
   "outputs": [
    {
     "name": "stdout",
     "output_type": "stream",
     "text": [
      "tf.Tensor(\n",
      "[[0 0 0 0 0 0 0 0 0 0]\n",
      " [0 0 0 0 0 0 0 0 0 0]\n",
      " [0 0 0 0 0 0 0 0 0 0]\n",
      " [0 0 0 0 0 0 0 0 0 0]\n",
      " [0 0 0 0 0 0 0 0 0 0]\n",
      " [0 0 0 0 0 0 0 0 0 0]\n",
      " [0 0 0 0 0 0 0 0 0 0]\n",
      " [0 0 0 0 0 0 0 0 0 0]\n",
      " [0 0 0 0 0 0 0 0 0 0]\n",
      " [0 0 0 0 0 0 0 0 0 0]], shape=(10, 10), dtype=int16)\n"
     ]
    }
   ],
   "source": [
    "print(zeros)"
   ]
  },
  {
   "cell_type": "code",
   "execution_count": 28,
   "metadata": {},
   "outputs": [],
   "source": [
    "ones = tf.ones([10, 10], tf.int16)"
   ]
  },
  {
   "cell_type": "code",
   "execution_count": 29,
   "metadata": {},
   "outputs": [],
   "source": [
    "tfAdd = tf.add(zeros, ones)"
   ]
  },
  {
   "cell_type": "code",
   "execution_count": 30,
   "metadata": {},
   "outputs": [
    {
     "name": "stdout",
     "output_type": "stream",
     "text": [
      "tf.Tensor(\n",
      "[[1 1 1 1 1 1 1 1 1 1]\n",
      " [1 1 1 1 1 1 1 1 1 1]\n",
      " [1 1 1 1 1 1 1 1 1 1]\n",
      " [1 1 1 1 1 1 1 1 1 1]\n",
      " [1 1 1 1 1 1 1 1 1 1]\n",
      " [1 1 1 1 1 1 1 1 1 1]\n",
      " [1 1 1 1 1 1 1 1 1 1]\n",
      " [1 1 1 1 1 1 1 1 1 1]\n",
      " [1 1 1 1 1 1 1 1 1 1]\n",
      " [1 1 1 1 1 1 1 1 1 1]], shape=(10, 10), dtype=int16)\n"
     ]
    }
   ],
   "source": [
    "print(tfAdd)"
   ]
  },
  {
   "cell_type": "code",
   "execution_count": 31,
   "metadata": {},
   "outputs": [],
   "source": [
    "tfVar = tf.Variable(tfAdd)"
   ]
  },
  {
   "cell_type": "code",
   "execution_count": 73,
   "metadata": {},
   "outputs": [
    {
     "ename": "FileNotFoundError",
     "evalue": "[Errno 2] No such file or directory: 'train_test/tfVar.pickle'",
     "output_type": "error",
     "traceback": [
      "\u001b[0;31m---------------------------------------------------------------------------\u001b[0m",
      "\u001b[0;31mFileNotFoundError\u001b[0m                         Traceback (most recent call last)",
      "\u001b[0;32m<ipython-input-73-84ac90c85eff>\u001b[0m in \u001b[0;36m<module>\u001b[0;34m\u001b[0m\n\u001b[0;32m----> 1\u001b[0;31m \u001b[0mpickle\u001b[0m\u001b[0;34m.\u001b[0m\u001b[0mdump\u001b[0m\u001b[0;34m(\u001b[0m\u001b[0mtfVar\u001b[0m\u001b[0;34m,\u001b[0m \u001b[0mopen\u001b[0m\u001b[0;34m(\u001b[0m\u001b[0;34m'train_test/tfVar.pickle'\u001b[0m\u001b[0;34m,\u001b[0m \u001b[0;34m'wb'\u001b[0m\u001b[0;34m)\u001b[0m\u001b[0;34m)\u001b[0m\u001b[0;34m\u001b[0m\u001b[0;34m\u001b[0m\u001b[0m\n\u001b[0m",
      "\u001b[0;31mFileNotFoundError\u001b[0m: [Errno 2] No such file or directory: 'train_test/tfVar.pickle'"
     ]
    }
   ],
   "source": [
    "pickle.dump(tfVar, open('train_test/tfVar.pickle', 'wb'))"
   ]
  },
  {
   "cell_type": "code",
   "execution_count": 32,
   "metadata": {},
   "outputs": [],
   "source": [
    "numpyArr = np.array([1,2,3])"
   ]
  },
  {
   "cell_type": "code",
   "execution_count": 33,
   "metadata": {},
   "outputs": [],
   "source": [
    "convertToTensor = tf.convert_to_tensor(numpyArr, tf.int16)"
   ]
  },
  {
   "cell_type": "code",
   "execution_count": 34,
   "metadata": {},
   "outputs": [
    {
     "name": "stdout",
     "output_type": "stream",
     "text": [
      "tf.Tensor([1 2 3], shape=(3,), dtype=int16)\n"
     ]
    }
   ],
   "source": [
    "print(convertToTensor)"
   ]
  },
  {
   "cell_type": "code",
   "execution_count": 35,
   "metadata": {},
   "outputs": [],
   "source": [
    "reduceAdd = tf.reduce_sum(convertToTensor)"
   ]
  },
  {
   "cell_type": "code",
   "execution_count": 36,
   "metadata": {},
   "outputs": [
    {
     "name": "stdout",
     "output_type": "stream",
     "text": [
      "tf.Tensor(6, shape=(), dtype=int16)\n"
     ]
    }
   ],
   "source": [
    "print(reduceAdd)"
   ]
  },
  {
   "cell_type": "code",
   "execution_count": 37,
   "metadata": {},
   "outputs": [],
   "source": [
    "reduceAdd = tf.reduce_sum(tfAdd)"
   ]
  },
  {
   "cell_type": "code",
   "execution_count": 38,
   "metadata": {},
   "outputs": [
    {
     "name": "stdout",
     "output_type": "stream",
     "text": [
      "tf.Tensor(100, shape=(), dtype=int16)\n"
     ]
    }
   ],
   "source": [
    "print(reduceAdd)"
   ]
  },
  {
   "cell_type": "code",
   "execution_count": 39,
   "metadata": {},
   "outputs": [],
   "source": [
    "reduceProd = tf.reduce_prod(convertToTensor)"
   ]
  },
  {
   "cell_type": "code",
   "execution_count": 40,
   "metadata": {},
   "outputs": [
    {
     "name": "stdout",
     "output_type": "stream",
     "text": [
      "tf.Tensor(6, shape=(), dtype=int16)\n"
     ]
    }
   ],
   "source": [
    "print(reduceProd)"
   ]
  },
  {
   "cell_type": "code",
   "execution_count": 41,
   "metadata": {},
   "outputs": [],
   "source": [
    "reduceProd = tf.reduce_prod(tfAdd)"
   ]
  },
  {
   "cell_type": "code",
   "execution_count": 42,
   "metadata": {},
   "outputs": [
    {
     "name": "stdout",
     "output_type": "stream",
     "text": [
      "tf.Tensor(1, shape=(), dtype=int16)\n"
     ]
    }
   ],
   "source": [
    "print(reduceProd)"
   ]
  },
  {
   "cell_type": "code",
   "execution_count": 43,
   "metadata": {},
   "outputs": [],
   "source": [
    "array = [[1,2], [3,4]]"
   ]
  },
  {
   "cell_type": "code",
   "execution_count": 44,
   "metadata": {},
   "outputs": [],
   "source": [
    "npArray = np.array(array)"
   ]
  },
  {
   "cell_type": "code",
   "execution_count": 45,
   "metadata": {},
   "outputs": [
    {
     "name": "stdout",
     "output_type": "stream",
     "text": [
      "[[1 2]\n",
      " [3 4]]\n"
     ]
    }
   ],
   "source": [
    "print(npArray)"
   ]
  },
  {
   "cell_type": "code",
   "execution_count": 46,
   "metadata": {},
   "outputs": [],
   "source": [
    "dataFrameArray = pd.DataFrame(array)"
   ]
  },
  {
   "cell_type": "code",
   "execution_count": 47,
   "metadata": {},
   "outputs": [
    {
     "name": "stdout",
     "output_type": "stream",
     "text": [
      "   0  1\n",
      "0  1  2\n",
      "1  3  4\n"
     ]
    }
   ],
   "source": [
    "print(dataFrameArray)"
   ]
  },
  {
   "cell_type": "code",
   "execution_count": 48,
   "metadata": {},
   "outputs": [],
   "source": [
    "dict = {\"name\":[\"David\", \"Theophilus\"], \"age\":[27, 29]}"
   ]
  },
  {
   "cell_type": "code",
   "execution_count": 49,
   "metadata": {},
   "outputs": [],
   "source": [
    "pdDict = pd.DataFrame(data=dict)"
   ]
  },
  {
   "cell_type": "code",
   "execution_count": 50,
   "metadata": {},
   "outputs": [
    {
     "name": "stdout",
     "output_type": "stream",
     "text": [
      "         name  age\n",
      "0       David   27\n",
      "1  Theophilus   29\n"
     ]
    }
   ],
   "source": [
    "print(pdDict)"
   ]
  },
  {
   "cell_type": "code",
   "execution_count": 51,
   "metadata": {},
   "outputs": [],
   "source": [
    "dateRange = pd.date_range('20210101', periods=6, freq=\"D\")"
   ]
  },
  {
   "cell_type": "code",
   "execution_count": 52,
   "metadata": {
    "scrolled": true
   },
   "outputs": [
    {
     "name": "stdout",
     "output_type": "stream",
     "text": [
      "DatetimeIndex(['2021-01-01', '2021-01-02', '2021-01-03', '2021-01-04',\n",
      "               '2021-01-05', '2021-01-06'],\n",
      "              dtype='datetime64[ns]', freq='D')\n"
     ]
    }
   ],
   "source": [
    "print(dateRange)"
   ]
  },
  {
   "cell_type": "code",
   "execution_count": 53,
   "metadata": {},
   "outputs": [],
   "source": [
    "random = np.random.randn(6, 4)"
   ]
  },
  {
   "cell_type": "code",
   "execution_count": 54,
   "metadata": {},
   "outputs": [
    {
     "name": "stdout",
     "output_type": "stream",
     "text": [
      "[[-0.31690045 -0.53435175 -0.11435103  0.21305971]\n",
      " [-0.19008099  1.17005956 -0.08992036  0.75519944]\n",
      " [ 0.68824046 -0.32355758  0.90454591 -2.23974216]\n",
      " [-1.45709372  0.14223249 -0.27244944 -0.65958029]\n",
      " [ 1.3282628   0.01510413 -0.59120453 -0.93277935]\n",
      " [-0.50039277  0.45844535  1.20563068  0.24246069]]\n"
     ]
    }
   ],
   "source": [
    "print(random)"
   ]
  },
  {
   "cell_type": "code",
   "execution_count": 55,
   "metadata": {},
   "outputs": [],
   "source": [
    "pdDateDataFrame = pd.DataFrame(random, index=dateRange, columns=[\"A\", \"B\", \"C\", \"D\"])"
   ]
  },
  {
   "cell_type": "code",
   "execution_count": 56,
   "metadata": {},
   "outputs": [
    {
     "name": "stdout",
     "output_type": "stream",
     "text": [
      "                   A         B         C         D\n",
      "2021-01-01 -0.316900 -0.534352 -0.114351  0.213060\n",
      "2021-01-02 -0.190081  1.170060 -0.089920  0.755199\n",
      "2021-01-03  0.688240 -0.323558  0.904546 -2.239742\n",
      "2021-01-04 -1.457094  0.142232 -0.272449 -0.659580\n",
      "2021-01-05  1.328263  0.015104 -0.591205 -0.932779\n",
      "2021-01-06 -0.500393  0.458445  1.205631  0.242461\n"
     ]
    }
   ],
   "source": [
    "print(pdDateDataFrame)"
   ]
  },
  {
   "cell_type": "code",
   "execution_count": 57,
   "metadata": {},
   "outputs": [
    {
     "name": "stdout",
     "output_type": "stream",
     "text": [
      "                   A         B         C         D\n",
      "2021-01-01 -0.316900 -0.534352 -0.114351  0.213060\n",
      "2021-01-02 -0.190081  1.170060 -0.089920  0.755199\n",
      "2021-01-03  0.688240 -0.323558  0.904546 -2.239742\n"
     ]
    }
   ],
   "source": [
    "print(pdDateDataFrame.head(n=3))"
   ]
  },
  {
   "cell_type": "code",
   "execution_count": 58,
   "metadata": {},
   "outputs": [
    {
     "name": "stdout",
     "output_type": "stream",
     "text": [
      "                   A         B         C         D\n",
      "2021-01-04 -1.457094  0.142232 -0.272449 -0.659580\n",
      "2021-01-05  1.328263  0.015104 -0.591205 -0.932779\n",
      "2021-01-06 -0.500393  0.458445  1.205631  0.242461\n"
     ]
    }
   ],
   "source": [
    "print(pdDateDataFrame.tail(n=3))"
   ]
  },
  {
   "cell_type": "code",
   "execution_count": 59,
   "metadata": {},
   "outputs": [
    {
     "name": "stdout",
     "output_type": "stream",
     "text": [
      "              A         B         C         D\n",
      "count  6.000000  6.000000  6.000000  6.000000\n",
      "mean  -0.074661  0.154655  0.173709 -0.436897\n",
      "std    0.971039  0.607681  0.712126  1.081740\n",
      "min   -1.457094 -0.534352 -0.591205 -2.239742\n",
      "25%   -0.454520 -0.238892 -0.232925 -0.864480\n",
      "50%   -0.253491  0.078668 -0.102136 -0.223260\n",
      "75%    0.468660  0.379392  0.655929  0.235110\n",
      "max    1.328263  1.170060  1.205631  0.755199\n"
     ]
    }
   ],
   "source": [
    "print(pdDateDataFrame.describe())"
   ]
  },
  {
   "cell_type": "code",
   "execution_count": 60,
   "metadata": {},
   "outputs": [
    {
     "name": "stdout",
     "output_type": "stream",
     "text": [
      "2021-01-01   -0.316900\n",
      "2021-01-02   -0.190081\n",
      "2021-01-03    0.688240\n",
      "2021-01-04   -1.457094\n",
      "2021-01-05    1.328263\n",
      "2021-01-06   -0.500393\n",
      "Freq: D, Name: A, dtype: float64\n"
     ]
    }
   ],
   "source": [
    "print(pdDateDataFrame[\"A\"])"
   ]
  },
  {
   "cell_type": "code",
   "execution_count": 61,
   "metadata": {},
   "outputs": [
    {
     "name": "stdout",
     "output_type": "stream",
     "text": [
      "                   A         B\n",
      "2021-01-01 -0.316900 -0.534352\n",
      "2021-01-02 -0.190081  1.170060\n",
      "2021-01-03  0.688240 -0.323558\n",
      "2021-01-04 -1.457094  0.142232\n",
      "2021-01-05  1.328263  0.015104\n",
      "2021-01-06 -0.500393  0.458445\n"
     ]
    }
   ],
   "source": [
    "print(pdDateDataFrame[[\"A\", \"B\"]])"
   ]
  },
  {
   "cell_type": "code",
   "execution_count": 62,
   "metadata": {},
   "outputs": [
    {
     "name": "stdout",
     "output_type": "stream",
     "text": [
      "                   A         B         C         D\n",
      "2021-01-01 -0.316900 -0.534352 -0.114351  0.213060\n",
      "2021-01-02 -0.190081  1.170060 -0.089920  0.755199\n",
      "2021-01-03  0.688240 -0.323558  0.904546 -2.239742\n"
     ]
    }
   ],
   "source": [
    "print(pdDateDataFrame[0:3])"
   ]
  },
  {
   "cell_type": "code",
   "execution_count": 63,
   "metadata": {},
   "outputs": [
    {
     "name": "stdout",
     "output_type": "stream",
     "text": [
      "                   A         B\n",
      "2021-01-01 -0.316900 -0.534352\n",
      "2021-01-02 -0.190081  1.170060\n",
      "2021-01-03  0.688240 -0.323558\n",
      "2021-01-04 -1.457094  0.142232\n",
      "2021-01-05  1.328263  0.015104\n",
      "2021-01-06 -0.500393  0.458445\n"
     ]
    }
   ],
   "source": [
    "print(pdDateDataFrame.loc[:,['A','B']])"
   ]
  },
  {
   "cell_type": "code",
   "execution_count": 64,
   "metadata": {},
   "outputs": [
    {
     "name": "stdout",
     "output_type": "stream",
     "text": [
      "                   A         B\n",
      "2021-01-01 -0.316900 -0.534352\n",
      "2021-01-02 -0.190081  1.170060\n"
     ]
    }
   ],
   "source": [
    "print(pdDateDataFrame.iloc[:2, :2])"
   ]
  },
  {
   "cell_type": "code",
   "execution_count": 65,
   "metadata": {},
   "outputs": [
    {
     "name": "stdout",
     "output_type": "stream",
     "text": [
      "                   A         B         C\n",
      "2021-01-01 -0.316900 -0.534352 -0.114351\n",
      "2021-01-02 -0.190081  1.170060 -0.089920\n",
      "2021-01-03  0.688240 -0.323558  0.904546\n",
      "2021-01-04 -1.457094  0.142232 -0.272449\n",
      "2021-01-05  1.328263  0.015104 -0.591205\n",
      "2021-01-06 -0.500393  0.458445  1.205631\n"
     ]
    }
   ],
   "source": [
    "print(pdDateDataFrame.drop(columns= [\"D\"]))"
   ]
  },
  {
   "cell_type": "code",
   "execution_count": 66,
   "metadata": {},
   "outputs": [
    {
     "name": "stdout",
     "output_type": "stream",
     "text": [
      "                   A         B         C         D\n",
      "2021-01-01 -0.316900 -0.534352 -0.114351  0.213060\n",
      "2021-01-02 -0.190081  1.170060 -0.089920  0.755199\n",
      "2021-01-03  0.688240 -0.323558  0.904546 -2.239742\n",
      "2021-01-04 -1.457094  0.142232 -0.272449 -0.659580\n",
      "2021-01-05  1.328263  0.015104 -0.591205 -0.932779\n",
      "2021-01-06 -0.500393  0.458445  1.205631  0.242461\n"
     ]
    }
   ],
   "source": [
    "print(pdDateDataFrame)"
   ]
  },
  {
   "cell_type": "code",
   "execution_count": 67,
   "metadata": {},
   "outputs": [],
   "source": [
    "COLUMNS = ['age','workclass', 'fnlwgt', 'education', 'education_num', 'marital',\n",
    "           'occupation', 'relationship', 'race', 'sex', 'capital_gain', 'capital_loss',\n",
    "           'hours_week', 'native_country', 'label']\n",
    "PATH = \"https://archive.ics.uci.edu/ml/machine-learning-databases/adult/adult.data\""
   ]
  },
  {
   "cell_type": "code",
   "execution_count": 68,
   "metadata": {},
   "outputs": [],
   "source": [
    "csvDataFrame = pd.read_csv(PATH, sep=\",\", skipinitialspace=True, names=COLUMNS, index_col=False)"
   ]
  },
  {
   "cell_type": "code",
   "execution_count": 69,
   "metadata": {},
   "outputs": [
    {
     "name": "stdout",
     "output_type": "stream",
     "text": [
      "       age         workclass  fnlwgt   education  education_num  \\\n",
      "0       39         State-gov   77516   Bachelors             13   \n",
      "1       50  Self-emp-not-inc   83311   Bachelors             13   \n",
      "2       38           Private  215646     HS-grad              9   \n",
      "3       53           Private  234721        11th              7   \n",
      "4       28           Private  338409   Bachelors             13   \n",
      "...    ...               ...     ...         ...            ...   \n",
      "32556   27           Private  257302  Assoc-acdm             12   \n",
      "32557   40           Private  154374     HS-grad              9   \n",
      "32558   58           Private  151910     HS-grad              9   \n",
      "32559   22           Private  201490     HS-grad              9   \n",
      "32560   52      Self-emp-inc  287927     HS-grad              9   \n",
      "\n",
      "                  marital         occupation   relationship   race     sex  \\\n",
      "0           Never-married       Adm-clerical  Not-in-family  White    Male   \n",
      "1      Married-civ-spouse    Exec-managerial        Husband  White    Male   \n",
      "2                Divorced  Handlers-cleaners  Not-in-family  White    Male   \n",
      "3      Married-civ-spouse  Handlers-cleaners        Husband  Black    Male   \n",
      "4      Married-civ-spouse     Prof-specialty           Wife  Black  Female   \n",
      "...                   ...                ...            ...    ...     ...   \n",
      "32556  Married-civ-spouse       Tech-support           Wife  White  Female   \n",
      "32557  Married-civ-spouse  Machine-op-inspct        Husband  White    Male   \n",
      "32558             Widowed       Adm-clerical      Unmarried  White  Female   \n",
      "32559       Never-married       Adm-clerical      Own-child  White    Male   \n",
      "32560  Married-civ-spouse    Exec-managerial           Wife  White  Female   \n",
      "\n",
      "       capital_gain  capital_loss  hours_week native_country  label  \n",
      "0              2174             0          40  United-States  <=50K  \n",
      "1                 0             0          13  United-States  <=50K  \n",
      "2                 0             0          40  United-States  <=50K  \n",
      "3                 0             0          40  United-States  <=50K  \n",
      "4                 0             0          40           Cuba  <=50K  \n",
      "...             ...           ...         ...            ...    ...  \n",
      "32556             0             0          38  United-States  <=50K  \n",
      "32557             0             0          40  United-States   >50K  \n",
      "32558             0             0          40  United-States  <=50K  \n",
      "32559             0             0          20  United-States  <=50K  \n",
      "32560         15024             0          40  United-States   >50K  \n",
      "\n",
      "[32561 rows x 15 columns]\n"
     ]
    }
   ],
   "source": [
    "print(csvDataFrame)"
   ]
  },
  {
   "cell_type": "code",
   "execution_count": 70,
   "metadata": {},
   "outputs": [
    {
     "name": "stdout",
     "output_type": "stream",
     "text": [
      "             age        fnlwgt  education_num  capital_gain  capital_loss  \\\n",
      "label                                                                       \n",
      "<=50K  36.783738  190340.86517       9.595065    148.752468     53.142921   \n",
      ">50K   44.249841  188005.00000      11.611657   4006.142456    195.001530   \n",
      "\n",
      "       hours_week  \n",
      "label              \n",
      "<=50K   38.840210  \n",
      ">50K    45.473026  \n"
     ]
    }
   ],
   "source": [
    "print(csvDataFrame.groupby(['label']).mean())"
   ]
  },
  {
   "cell_type": "code",
   "execution_count": 71,
   "metadata": {
    "scrolled": true
   },
   "outputs": [
    {
     "data": {
      "text/plain": [
       "label  marital                race              \n",
       "<=50K  Divorced               Amer-Indian-Eskimo     6849\n",
       "                              Asian-Pac-Islander        0\n",
       "                              Black                  6497\n",
       "                              Other                     0\n",
       "                              White                 34095\n",
       "       Married-AF-spouse      White                  2653\n",
       "       Married-civ-spouse     Amer-Indian-Eskimo     3908\n",
       "                              Asian-Pac-Islander     5013\n",
       "                              Black                 10566\n",
       "                              Other                  4064\n",
       "                              White                 41310\n",
       "       Married-spouse-absent  Amer-Indian-Eskimo        0\n",
       "                              Asian-Pac-Islander        0\n",
       "                              Black                  4650\n",
       "                              Other                     0\n",
       "                              White                  6849\n",
       "       Never-married          Amer-Indian-Eskimo     6849\n",
       "                              Asian-Pac-Islander     4650\n",
       "                              Black                 34095\n",
       "                              Other                  4101\n",
       "                              White                 34095\n",
       "       Separated              Amer-Indian-Eskimo     2597\n",
       "                              Asian-Pac-Islander        0\n",
       "                              Black                  6497\n",
       "                              Other                     0\n",
       "                              White                  7443\n",
       "       Widowed                Amer-Indian-Eskimo        0\n",
       "                              Asian-Pac-Islander        0\n",
       "                              Black                  6497\n",
       "                              Other                     0\n",
       "                              White                  6849\n",
       ">50K   Divorced               Amer-Indian-Eskimo    14084\n",
       "                              Asian-Pac-Islander    99999\n",
       "                              Black                 27828\n",
       "                              Other                     0\n",
       "                              White                 99999\n",
       "       Married-AF-spouse      Black                     0\n",
       "                              White                  7298\n",
       "       Married-civ-spouse     Amer-Indian-Eskimo    15024\n",
       "                              Asian-Pac-Islander    99999\n",
       "                              Black                 99999\n",
       "                              Other                 99999\n",
       "                              White                 99999\n",
       "       Married-spouse-absent  Asian-Pac-Islander    13550\n",
       "                              Black                     0\n",
       "                              White                 99999\n",
       "       Never-married          Amer-Indian-Eskimo    27828\n",
       "                              Asian-Pac-Islander    99999\n",
       "                              Black                 99999\n",
       "                              Other                     0\n",
       "                              White                 99999\n",
       "       Separated              Asian-Pac-Islander     8614\n",
       "                              Black                 99999\n",
       "                              White                 99999\n",
       "       Widowed                Asian-Pac-Islander        0\n",
       "                              Black                     0\n",
       "                              White                 99999\n",
       "Name: capital_gain, dtype: int64"
      ]
     },
     "execution_count": 71,
     "metadata": {},
     "output_type": "execute_result"
    }
   ],
   "source": [
    "csvDataFrame.groupby(['label', 'marital', 'race'])['capital_gain'].max()"
   ]
  },
  {
   "cell_type": "code",
   "execution_count": 72,
   "metadata": {},
   "outputs": [
    {
     "data": {
      "text/html": [
       "<div>\n",
       "<style scoped>\n",
       "    .dataframe tbody tr th:only-of-type {\n",
       "        vertical-align: middle;\n",
       "    }\n",
       "\n",
       "    .dataframe tbody tr th {\n",
       "        vertical-align: top;\n",
       "    }\n",
       "\n",
       "    .dataframe thead th {\n",
       "        text-align: right;\n",
       "    }\n",
       "</style>\n",
       "<table border=\"1\" class=\"dataframe\">\n",
       "  <thead>\n",
       "    <tr style=\"text-align: right;\">\n",
       "      <th>marital</th>\n",
       "      <th>Divorced</th>\n",
       "      <th>Married-AF-spouse</th>\n",
       "      <th>Married-civ-spouse</th>\n",
       "      <th>Married-spouse-absent</th>\n",
       "      <th>Never-married</th>\n",
       "      <th>Separated</th>\n",
       "      <th>Widowed</th>\n",
       "    </tr>\n",
       "    <tr>\n",
       "      <th>label</th>\n",
       "      <th></th>\n",
       "      <th></th>\n",
       "      <th></th>\n",
       "      <th></th>\n",
       "      <th></th>\n",
       "      <th></th>\n",
       "      <th></th>\n",
       "    </tr>\n",
       "  </thead>\n",
       "  <tbody>\n",
       "    <tr>\n",
       "      <th>&lt;=50K</th>\n",
       "      <td>140.544724</td>\n",
       "      <td>204.076923</td>\n",
       "      <td>219.249517</td>\n",
       "      <td>106.559896</td>\n",
       "      <td>99.052492</td>\n",
       "      <td>117.190824</td>\n",
       "      <td>149.811674</td>\n",
       "    </tr>\n",
       "    <tr>\n",
       "      <th>&gt;50K</th>\n",
       "      <td>5781.812095</td>\n",
       "      <td>729.800000</td>\n",
       "      <td>3678.163927</td>\n",
       "      <td>6836.647059</td>\n",
       "      <td>6137.576375</td>\n",
       "      <td>6614.727273</td>\n",
       "      <td>5071.117647</td>\n",
       "    </tr>\n",
       "  </tbody>\n",
       "</table>\n",
       "</div>"
      ],
      "text/plain": [
       "marital     Divorced  Married-AF-spouse  Married-civ-spouse  \\\n",
       "label                                                         \n",
       "<=50K     140.544724         204.076923          219.249517   \n",
       ">50K     5781.812095         729.800000         3678.163927   \n",
       "\n",
       "marital  Married-spouse-absent  Never-married    Separated      Widowed  \n",
       "label                                                                    \n",
       "<=50K               106.559896      99.052492   117.190824   149.811674  \n",
       ">50K               6836.647059    6137.576375  6614.727273  5071.117647  "
      ]
     },
     "execution_count": 72,
     "metadata": {},
     "output_type": "execute_result"
    }
   ],
   "source": [
    "df_plot = csvDataFrame.groupby(['label', 'marital'])['capital_gain'].mean().unstack()\n",
    "df_plot"
   ]
  }
 ],
 "metadata": {
  "kernelspec": {
   "display_name": "Python 3",
   "language": "python",
   "name": "python3"
  },
  "language_info": {
   "codemirror_mode": {
    "name": "ipython",
    "version": 3
   },
   "file_extension": ".py",
   "mimetype": "text/x-python",
   "name": "python",
   "nbconvert_exporter": "python",
   "pygments_lexer": "ipython3",
   "version": "3.7.9"
  }
 },
 "nbformat": 4,
 "nbformat_minor": 4
}
