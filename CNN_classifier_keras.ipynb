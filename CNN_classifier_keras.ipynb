{
 "cells": [
  {
   "cell_type": "code",
   "execution_count": 624,
   "id": "excited-fleet",
   "metadata": {},
   "outputs": [],
   "source": [
    "import tensorflow as tf"
   ]
  },
  {
   "cell_type": "code",
   "execution_count": 625,
   "id": "celtic-impossible",
   "metadata": {},
   "outputs": [],
   "source": [
    "import numpy as np"
   ]
  },
  {
   "cell_type": "code",
   "execution_count": 626,
   "id": "every-africa",
   "metadata": {},
   "outputs": [],
   "source": [
    "from sklearn.preprocessing import MinMaxScaler"
   ]
  },
  {
   "cell_type": "code",
   "execution_count": 627,
   "id": "covered-population",
   "metadata": {},
   "outputs": [],
   "source": [
    "from sklearn.datasets import fetch_openml"
   ]
  },
  {
   "cell_type": "code",
   "execution_count": 628,
   "id": "sacred-duncan",
   "metadata": {},
   "outputs": [],
   "source": [
    "from sklearn.model_selection import train_test_split"
   ]
  },
  {
   "cell_type": "code",
   "execution_count": 629,
   "id": "freelance-prerequisite",
   "metadata": {},
   "outputs": [],
   "source": [
    "from tensorflow.keras import datasets, layers, models"
   ]
  },
  {
   "cell_type": "code",
   "execution_count": 630,
   "id": "widespread-preview",
   "metadata": {},
   "outputs": [],
   "source": [
    "import matplotlib.pyplot as plt"
   ]
  },
  {
   "cell_type": "code",
   "execution_count": 631,
   "id": "detailed-terminology",
   "metadata": {},
   "outputs": [],
   "source": [
    "mnist = fetch_openml('mnist_784', version=1, cache=False)"
   ]
  },
  {
   "cell_type": "code",
   "execution_count": 632,
   "id": "behind-evaluation",
   "metadata": {},
   "outputs": [],
   "source": [
    "X_train, X_test, y_train, y_test = train_test_split(mnist.data, mnist.target, test_size=0.2, random_state=42)"
   ]
  },
  {
   "cell_type": "code",
   "execution_count": 633,
   "id": "suited-diagnosis",
   "metadata": {},
   "outputs": [],
   "source": [
    "y_train = y_train.astype(int)"
   ]
  },
  {
   "cell_type": "code",
   "execution_count": 634,
   "id": "informational-scotland",
   "metadata": {},
   "outputs": [],
   "source": [
    "y_test = y_test.astype(int)"
   ]
  },
  {
   "cell_type": "code",
   "execution_count": 635,
   "id": "diverse-spyware",
   "metadata": {},
   "outputs": [],
   "source": [
    "batch_size = len(X_train)"
   ]
  },
  {
   "cell_type": "markdown",
   "id": "reliable-truck",
   "metadata": {},
   "source": [
    "X_test.shape"
   ]
  },
  {
   "cell_type": "code",
   "execution_count": 636,
   "id": "expanded-doctor",
   "metadata": {},
   "outputs": [],
   "source": [
    "scaler = MinMaxScaler()"
   ]
  },
  {
   "cell_type": "code",
   "execution_count": 637,
   "id": "seven-sauce",
   "metadata": {},
   "outputs": [],
   "source": [
    "X_train_scaled = scaler.fit_transform(X_train.astype(np.float64))"
   ]
  },
  {
   "cell_type": "code",
   "execution_count": 638,
   "id": "suburban-compression",
   "metadata": {},
   "outputs": [],
   "source": [
    "X_test_scaled = scaler.fit_transform(X_test.astype(np.float64))"
   ]
  },
  {
   "cell_type": "code",
   "execution_count": 639,
   "id": "ethical-assist",
   "metadata": {},
   "outputs": [
    {
     "data": {
      "text/plain": [
       "(784,)"
      ]
     },
     "execution_count": 639,
     "metadata": {},
     "output_type": "execute_result"
    }
   ],
   "source": [
    "X_train_scaled.shape[1:]"
   ]
  },
  {
   "cell_type": "code",
   "execution_count": 640,
   "id": "brazilian-patio",
   "metadata": {},
   "outputs": [],
   "source": [
    "feature_columns = [tf.feature_column.numeric_column('x', shape = X_train_scaled.shape[1:])]"
   ]
  },
  {
   "cell_type": "code",
   "execution_count": 641,
   "id": "clear-chorus",
   "metadata": {},
   "outputs": [],
   "source": [
    "model = models.Sequential()"
   ]
  },
  {
   "cell_type": "code",
   "execution_count": 642,
   "id": "passing-enforcement",
   "metadata": {},
   "outputs": [],
   "source": [
    "model.add(layers.Conv2D(filters=14, kernel_size=(5,5), activation='relu', input_shape=(28, 28, 1), padding=\"same\", name='conv2d_1'))"
   ]
  },
  {
   "cell_type": "code",
   "execution_count": 643,
   "id": "graduate-robertson",
   "metadata": {},
   "outputs": [],
   "source": [
    "model.add(layers.MaxPool2D(pool_size=(2,2), strides=2, name='maxPool2d_1'))"
   ]
  },
  {
   "cell_type": "code",
   "execution_count": 644,
   "id": "statewide-albert",
   "metadata": {},
   "outputs": [],
   "source": [
    "model.add(layers.Conv2D(filters=36, kernel_size=(5, 5), activation='relu', padding='same', name='conv2d_2'))"
   ]
  },
  {
   "cell_type": "code",
   "execution_count": 646,
   "id": "final-martin",
   "metadata": {},
   "outputs": [],
   "source": [
    "model.add(layers.MaxPool2D(pool_size=(2,2), strides=2, name='maxPool2d_2'))"
   ]
  },
  {
   "cell_type": "code",
   "execution_count": 647,
   "id": "thorough-ceramic",
   "metadata": {},
   "outputs": [],
   "source": [
    "model.add(layers.Flatten(name='flatten_1'))"
   ]
  },
  {
   "cell_type": "code",
   "execution_count": 648,
   "id": "acting-payday",
   "metadata": {},
   "outputs": [],
   "source": [
    "model.add(layers.Dense(units=7*7*36, activation='relu', name=\"dense_1\"))"
   ]
  },
  {
   "cell_type": "code",
   "execution_count": 649,
   "id": "backed-saying",
   "metadata": {},
   "outputs": [],
   "source": [
    "model.add(layers.Dropout(rate=0.3, name='dropout_1'))"
   ]
  },
  {
   "cell_type": "code",
   "execution_count": 650,
   "id": "polar-identifier",
   "metadata": {},
   "outputs": [],
   "source": [
    "model.add(layers.Dense(units=10, name=\"dense_2\"))"
   ]
  },
  {
   "cell_type": "code",
   "execution_count": 651,
   "id": "sharp-nitrogen",
   "metadata": {},
   "outputs": [
    {
     "name": "stdout",
     "output_type": "stream",
     "text": [
      "Model: \"sequential_17\"\n",
      "_________________________________________________________________\n",
      "Layer (type)                 Output Shape              Param #   \n",
      "=================================================================\n",
      "conv2d_1 (Conv2D)            (None, 28, 28, 14)        364       \n",
      "_________________________________________________________________\n",
      "maxPool2d_1 (MaxPooling2D)   (None, 14, 14, 14)        0         \n",
      "_________________________________________________________________\n",
      "conv2d_2 (Conv2D)            (None, 14, 14, 36)        12636     \n",
      "_________________________________________________________________\n",
      "maxPool2d_2 (MaxPooling2D)   (None, 7, 7, 36)          0         \n",
      "_________________________________________________________________\n",
      "flatten_1 (Flatten)          (None, 1764)              0         \n",
      "_________________________________________________________________\n",
      "dense_1 (Dense)              (None, 1764)              3113460   \n",
      "_________________________________________________________________\n",
      "dropout_1 (Dropout)          (None, 1764)              0         \n",
      "_________________________________________________________________\n",
      "dense_2 (Dense)              (None, 10)                17650     \n",
      "=================================================================\n",
      "Total params: 3,144,110\n",
      "Trainable params: 3,144,110\n",
      "Non-trainable params: 0\n",
      "_________________________________________________________________\n"
     ]
    }
   ],
   "source": [
    "model.summary()"
   ]
  },
  {
   "cell_type": "code",
   "execution_count": 653,
   "id": "preliminary-tribune",
   "metadata": {},
   "outputs": [],
   "source": [
    "model.compile(optimizer='adam',\n",
    "              loss=tf.keras.losses.SparseCategoricalCrossentropy(from_logits=True),\n",
    "              metrics=['accuracy'])"
   ]
  },
  {
   "cell_type": "code",
   "execution_count": 654,
   "id": "ultimate-darkness",
   "metadata": {},
   "outputs": [
    {
     "data": {
      "text/plain": [
       "(14000, 784)"
      ]
     },
     "execution_count": 654,
     "metadata": {},
     "output_type": "execute_result"
    }
   ],
   "source": [
    "X_test_scaled.shape"
   ]
  },
  {
   "cell_type": "code",
   "execution_count": 655,
   "id": "announced-discussion",
   "metadata": {},
   "outputs": [],
   "source": [
    "X_train_scaled = X_train_scaled.reshape((-1, 28, 28, 1))"
   ]
  },
  {
   "cell_type": "code",
   "execution_count": 656,
   "id": "limiting-burst",
   "metadata": {},
   "outputs": [],
   "source": [
    "X_test_scaled = X_test_scaled.reshape((-1, 28, 28, 1))"
   ]
  },
  {
   "cell_type": "code",
   "execution_count": 658,
   "id": "similar-bunch",
   "metadata": {},
   "outputs": [
    {
     "name": "stdout",
     "output_type": "stream",
     "text": [
      "Train on 56000 samples, validate on 14000 samples\n",
      "56000/56000 [==============================] - 129s 2ms/sample - loss: 0.0409 - accuracy: 0.9874 - val_loss: 0.0360 - val_accuracy: 0.9885\n"
     ]
    }
   ],
   "source": [
    "history = model.fit(X_train_scaled, y_train, epochs=1, \n",
    "                    validation_data=(X_test_scaled, y_test))"
   ]
  },
  {
   "cell_type": "code",
   "execution_count": 659,
   "id": "liked-aurora",
   "metadata": {},
   "outputs": [
    {
     "data": {
      "text/plain": [
       "<matplotlib.legend.Legend at 0x7f9c37349e90>"
      ]
     },
     "execution_count": 659,
     "metadata": {},
     "output_type": "execute_result"
    },
    {
     "data": {
      "image/png": "[encoded data removed]",
      "text/plain": [
       "<Figure size 432x288 with 1 Axes>"
      ]
     },
     "metadata": {
      "needs_background": "light"
     },
     "output_type": "display_data"
    }
   ],
   "source": [
    "plt.plot(history.history['accuracy'], label='accuracy')\n",
    "plt.plot(history.history['val_accuracy'], label = 'val_accuracy')\n",
    "plt.xlabel('Epoch')\n",
    "plt.ylabel('Accuracy')\n",
    "plt.ylim([0.5, 1])\n",
    "plt.legend(loc='lower right')"
   ]
  },
  {
   "cell_type": "code",
   "execution_count": 660,
   "id": "comparable-blocking",
   "metadata": {},
   "outputs": [
    {
     "data": {
      "text/plain": [
       "{'loss': [0.04093609542639544],\n",
       " 'accuracy': [0.98735714],\n",
       " 'val_loss': [0.03598213068066564],\n",
       " 'val_accuracy': [0.9885]}"
      ]
     },
     "execution_count": 660,
     "metadata": {},
     "output_type": "execute_result"
    }
   ],
   "source": [
    "history.history"
   ]
  },
  {
   "cell_type": "code",
   "execution_count": 661,
   "id": "spectacular-beads",
   "metadata": {},
   "outputs": [
    {
     "name": "stdout",
     "output_type": "stream",
     "text": [
      "14000/1 - 13s - loss: 0.0183 - accuracy: 0.9885\n"
     ]
    }
   ],
   "source": [
    "test_loss, test_acc = model.evaluate(X_test_scaled, y_test, verbose=2)"
   ]
  },
  {
   "cell_type": "code",
   "execution_count": 662,
   "id": "indian-browser",
   "metadata": {},
   "outputs": [],
   "source": [
    "res=model.predict(X_test_scaled)"
   ]
  },
  {
   "cell_type": "code",
   "execution_count": 663,
   "id": "concrete-siemens",
   "metadata": {},
   "outputs": [
    {
     "name": "stdout",
     "output_type": "stream",
     "text": [
      "[[ -8.406812    -7.786359    -3.9234257  ...  -7.1337585   15.833873\n",
      "   -0.75670457]\n",
      " [-15.04371     -6.2367854   -8.200247   ...  -1.8776239   -3.1033292\n",
      "   -1.339227  ]\n",
      " [ -4.9213576   -4.934956    -5.2058773  ...  -7.4958405    7.8898935\n",
      "   -1.551281  ]\n",
      " ...\n",
      " [ -3.3425293   -2.3245728   12.726057   ...  -3.8739083    0.32146576\n",
      "   -4.2515407 ]\n",
      " [ -6.706266    -2.9931405   -3.365347   ...  11.736816    -5.9430504\n",
      "    0.8146276 ]\n",
      " [ -3.0914333    7.733631    -3.868343   ...  -3.084107    -1.7534245\n",
      "   -5.0191207 ]]\n"
     ]
    }
   ],
   "source": [
    "print(res)"
   ]
  },
  {
   "cell_type": "code",
   "execution_count": 664,
   "id": "understood-thailand",
   "metadata": {},
   "outputs": [
    {
     "data": {
      "text/plain": [
       "(14000, 10)"
      ]
     },
     "execution_count": 664,
     "metadata": {},
     "output_type": "execute_result"
    }
   ],
   "source": [
    "res.shape"
   ]
  },
  {
   "cell_type": "code",
   "execution_count": 665,
   "id": "inclusive-resource",
   "metadata": {},
   "outputs": [],
   "source": [
    "# Using estimator models"
   ]
  },
  {
   "cell_type": "code",
   "execution_count": 666,
   "id": "closed-cannon",
   "metadata": {},
   "outputs": [
    {
     "name": "stdout",
     "output_type": "stream",
     "text": [
      "INFO:tensorflow:Using default config.\n",
      "WARNING:tensorflow:Using temporary folder as model directory: /var/folders/6_/8_x7k80s52vcfppnmvb31wxr0000gn/T/tmpekw5uwkm\n",
      "INFO:tensorflow:Using the Keras model provided.\n",
      "INFO:tensorflow:Using config: {'_model_dir': '/var/folders/6_/8_x7k80s52vcfppnmvb31wxr0000gn/T/tmpekw5uwkm', '_tf_random_seed': None, '_save_summary_steps': 100, '_save_checkpoints_steps': None, '_save_checkpoints_secs': 600, '_session_config': allow_soft_placement: true\n",
      "graph_options {\n",
      "  rewrite_options {\n",
      "    meta_optimizer_iterations: ONE\n",
      "  }\n",
      "}\n",
      ", '_keep_checkpoint_max': 5, '_keep_checkpoint_every_n_hours': 10000, '_log_step_count_steps': 100, '_train_distribute': None, '_device_fn': None, '_protocol': None, '_eval_distribute': None, '_experimental_distribute': None, '_experimental_max_worker_delay_secs': None, '_session_creation_timeout_secs': 7200, '_service': None, '_cluster_spec': <tensorflow.python.training.server_lib.ClusterSpec object at 0x7f9741dd7790>, '_task_type': 'worker', '_task_id': 0, '_global_id_in_cluster': 0, '_master': '', '_evaluation_master': '', '_is_chief': True, '_num_ps_replicas': 0, '_num_worker_replicas': 1}\n"
     ]
    }
   ],
   "source": [
    "estimator_model = tf.keras.estimator.model_to_estimator(keras_model=model)"
   ]
  },
  {
   "cell_type": "code",
   "execution_count": 671,
   "id": "determined-recognition",
   "metadata": {},
   "outputs": [],
   "source": [
    "def get_input_fn(data_df, label_df, num_epochs=None, batch_size=128, shuffle=True, steps=1000):\n",
    "    def input_fn():\n",
    "        ds = tf.data.Dataset.from_tensor_slices(({\"conv2d_1_input\": data_df}, label_df)) if label_df is not None else tf.data.Dataset.from_tensor_slices(({\"conv2d_1_input\": data_df}))\n",
    "        if shuffle:\n",
    "            ds = ds.shuffle(steps)\n",
    "        ds = ds.batch(batch_size)\n",
    "        return ds\n",
    "    return input_fn "
   ]
  },
  {
   "cell_type": "code",
   "execution_count": 672,
   "id": "focal-april",
   "metadata": {},
   "outputs": [],
   "source": [
    "train_input = get_input_fn(X_train_scaled, y_train, batch_size=1000, shuffle=False)"
   ]
  },
  {
   "cell_type": "code",
   "execution_count": 673,
   "id": "rubber-spread",
   "metadata": {},
   "outputs": [
    {
     "name": "stdout",
     "output_type": "stream",
     "text": [
      "INFO:tensorflow:Calling model_fn.\n",
      "INFO:tensorflow:Done calling model_fn.\n",
      "INFO:tensorflow:Warm-starting with WarmStartSettings: WarmStartSettings(ckpt_to_initialize_from='/var/folders/6_/8_x7k80s52vcfppnmvb31wxr0000gn/T/tmpekw5uwkm/keras/keras_model.ckpt', vars_to_warm_start='.*', var_name_to_vocab_info={}, var_name_to_prev_var_name={})\n",
      "INFO:tensorflow:Warm-starting from: /var/folders/6_/8_x7k80s52vcfppnmvb31wxr0000gn/T/tmpekw5uwkm/keras/keras_model.ckpt\n",
      "INFO:tensorflow:Warm-starting variables only in TRAINABLE_VARIABLES.\n",
      "INFO:tensorflow:Warm-started 8 variables.\n",
      "INFO:tensorflow:Create CheckpointSaverHook.\n",
      "INFO:tensorflow:Graph was finalized.\n",
      "INFO:tensorflow:Running local_init_op.\n",
      "INFO:tensorflow:Done running local_init_op.\n",
      "INFO:tensorflow:Saving checkpoints for 0 into /var/folders/6_/8_x7k80s52vcfppnmvb31wxr0000gn/T/tmpekw5uwkm/model.ckpt.\n",
      "INFO:tensorflow:loss = 0.019074915, step = 0\n",
      "INFO:tensorflow:Saving checkpoints for 56 into /var/folders/6_/8_x7k80s52vcfppnmvb31wxr0000gn/T/tmpekw5uwkm/model.ckpt.\n",
      "INFO:tensorflow:Loss for final step: 0.00588623.\n"
     ]
    },
    {
     "data": {
      "text/plain": [
       "<tensorflow_estimator.python.estimator.estimator.EstimatorV2 at 0x7f9741f67150>"
      ]
     },
     "execution_count": 673,
     "metadata": {},
     "output_type": "execute_result"
    }
   ],
   "source": [
    "estimator_model.train(input_fn=train_input, steps=None)"
   ]
  },
  {
   "cell_type": "code",
   "execution_count": 674,
   "id": "tight-vulnerability",
   "metadata": {},
   "outputs": [],
   "source": [
    "eval_input = get_input_fn(X_test_scaled, y_test, batch_size=1000, num_epochs=1, shuffle=False)"
   ]
  },
  {
   "cell_type": "code",
   "execution_count": 675,
   "id": "minus-planning",
   "metadata": {},
   "outputs": [
    {
     "name": "stdout",
     "output_type": "stream",
     "text": [
      "INFO:tensorflow:Calling model_fn.\n",
      "INFO:tensorflow:Done calling model_fn.\n",
      "INFO:tensorflow:Starting evaluation at 2021-02-06T11:14:47Z\n",
      "INFO:tensorflow:Graph was finalized.\n",
      "INFO:tensorflow:Restoring parameters from /var/folders/6_/8_x7k80s52vcfppnmvb31wxr0000gn/T/tmpekw5uwkm/model.ckpt-56\n",
      "INFO:tensorflow:Running local_init_op.\n",
      "INFO:tensorflow:Done running local_init_op.\n",
      "INFO:tensorflow:Finished evaluation at 2021-02-06-11:14:57\n",
      "INFO:tensorflow:Saving dict for global step 56: accuracy = 0.99135715, global_step = 56, loss = 0.025457805\n",
      "INFO:tensorflow:Saving 'checkpoint_path' summary for global step 56: /var/folders/6_/8_x7k80s52vcfppnmvb31wxr0000gn/T/tmpekw5uwkm/model.ckpt-56\n"
     ]
    },
    {
     "data": {
      "text/plain": [
       "{'accuracy': 0.99135715, 'loss': 0.025457805, 'global_step': 56}"
      ]
     },
     "execution_count": 675,
     "metadata": {},
     "output_type": "execute_result"
    }
   ],
   "source": [
    "estimator_model.evaluate(input_fn=eval_input, steps=None)"
   ]
  },
  {
   "cell_type": "code",
   "execution_count": 686,
   "id": "coordinated-configuration",
   "metadata": {},
   "outputs": [],
   "source": [
    "a = estimator_model.predict(input_fn=eval_input)"
   ]
  }
 ],
 "metadata": {
  "kernelspec": {
   "display_name": "Python 3",
   "language": "python",
   "name": "python3"
  },
  "language_info": {
   "codemirror_mode": {
    "name": "ipython",
    "version": 3
   },
   "file_extension": ".py",
   "mimetype": "text/x-python",
   "name": "python",
   "nbconvert_exporter": "python",
   "pygments_lexer": "ipython3",
   "version": "3.7.9"
  }
 },
 "nbformat": 4,
 "nbformat_minor": 5
}
