{
 "cells": [
  {
   "cell_type": "code",
   "execution_count": 144,
   "metadata": {},
   "outputs": [],
   "source": [
    "import pandas as pd"
   ]
  },
  {
   "cell_type": "code",
   "execution_count": 145,
   "metadata": {},
   "outputs": [],
   "source": [
    "from sklearn import datasets"
   ]
  },
  {
   "cell_type": "code",
   "execution_count": 146,
   "metadata": {},
   "outputs": [],
   "source": [
    "import tensorflow as tf"
   ]
  },
  {
   "cell_type": "code",
   "execution_count": 147,
   "metadata": {},
   "outputs": [],
   "source": [
    "import itertools"
   ]
  },
  {
   "cell_type": "code",
   "execution_count": 148,
   "metadata": {},
   "outputs": [],
   "source": [
    "import os"
   ]
  },
  {
   "cell_type": "code",
   "execution_count": 149,
   "metadata": {},
   "outputs": [],
   "source": [
    "import tempfile"
   ]
  },
  {
   "cell_type": "code",
   "execution_count": 150,
   "metadata": {},
   "outputs": [],
   "source": [
    "COLUMNS = [\"crim\", \"zn\", \"indus\", \"nox\", \"rm\", \"age\",\n",
    "           \"dis\", \"tax\", \"ptratio\", \"medv\"]"
   ]
  },
  {
   "cell_type": "code",
   "execution_count": 151,
   "metadata": {},
   "outputs": [],
   "source": [
    "training_set = pd.read_csv('/Users/wisdom/Downloads/boston_train/boston_train.csv', skipinitialspace=True, skiprows=1, names=COLUMNS)"
   ]
  },
  {
   "cell_type": "code",
   "execution_count": 152,
   "metadata": {},
   "outputs": [],
   "source": [
    "test_set = pd.read_csv('/Users/wisdom/Downloads/boston_train/boston_test.csv', skipinitialspace=True, skiprows=1, names=COLUMNS)"
   ]
  },
  {
   "cell_type": "code",
   "execution_count": 153,
   "metadata": {},
   "outputs": [],
   "source": [
    "prediction_set = pd.read_csv('/Users/wisdom/Downloads/boston_train/boston_predict.csv', skipinitialspace=True, skiprows=1, names=COLUMNS)"
   ]
  },
  {
   "cell_type": "code",
   "execution_count": 154,
   "metadata": {},
   "outputs": [],
   "source": [
    "FEATURES =[\"crim\", \"zn\", \"indus\", \"nox\", \"rm\", \"age\",\"dis\", \"tax\", \"ptratio\"]"
   ]
  },
  {
   "cell_type": "code",
   "execution_count": 155,
   "metadata": {},
   "outputs": [],
   "source": [
    "LABEL=\"medv\""
   ]
  },
  {
   "cell_type": "code",
   "execution_count": 156,
   "metadata": {},
   "outputs": [],
   "source": [
    "feature_cols = [tf.feature_column.numeric_column(k) for k in FEATURES]"
   ]
  },
  {
   "cell_type": "code",
   "execution_count": 157,
   "metadata": {},
   "outputs": [],
   "source": [
    "# How to get feature cols for features that are variable\n",
    "# CATEGORICAL_COLUMNS = ['sex', 'n_siblings_spouses', 'parch', 'class', 'deck',\n",
    "#                        'embark_town', 'alone']\n",
    "# NUMERIC_COLUMNS = ['age', 'fare']\n",
    "\n",
    "# feature_columns = []\n",
    "# for feature_name in CATEGORICAL_COLUMNS:\n",
    "#   vocabulary = dftrain[feature_name].unique()\n",
    "#   feature_columns.append(tf.feature_column.categorical_column_with_vocabulary_list(feature_name, vocabulary))\n",
    "\n",
    "# for feature_name in NUMERIC_COLUMNS:\n",
    "#   feature_columns.append(tf.feature_column.numeric_column(feature_name, dtype=tf.float32))"
   ]
  },
  {
   "cell_type": "code",
   "execution_count": 183,
   "metadata": {},
   "outputs": [
    {
     "name": "stdout",
     "output_type": "stream",
     "text": [
      "INFO:tensorflow:Using default config.\n",
      "INFO:tensorflow:Using config: {'_model_dir': 'train', '_tf_random_seed': None, '_save_summary_steps': 100, '_save_checkpoints_steps': None, '_save_checkpoints_secs': 600, '_session_config': allow_soft_placement: true\n",
      "graph_options {\n",
      "  rewrite_options {\n",
      "    meta_optimizer_iterations: ONE\n",
      "  }\n",
      "}\n",
      ", '_keep_checkpoint_max': 5, '_keep_checkpoint_every_n_hours': 10000, '_log_step_count_steps': 100, '_train_distribute': None, '_device_fn': None, '_protocol': None, '_eval_distribute': None, '_experimental_distribute': None, '_experimental_max_worker_delay_secs': None, '_session_creation_timeout_secs': 7200, '_service': None, '_cluster_spec': <tensorflow.python.training.server_lib.ClusterSpec object at 0x7fe36d9cc090>, '_task_type': 'worker', '_task_id': 0, '_global_id_in_cluster': 0, '_master': '', '_evaluation_master': '', '_is_chief': True, '_num_ps_replicas': 0, '_num_worker_replicas': 1}\n"
     ]
    }
   ],
   "source": [
    "estimator = tf.estimator.LinearRegressor(feature_columns=feature_cols, model_dir=\"train\")"
   ]
  },
  {
   "cell_type": "code",
   "execution_count": 159,
   "metadata": {},
   "outputs": [],
   "source": [
    "def get_input_fn(data_set, num_epochs=None, batch_size=128, shuffle=True, steps=1000):\n",
    "    def input_function():\n",
    "        ds = tf.data.Dataset.from_tensor_slices(({k: data_set[k].values for k in FEATURES}, data_set[LABEL]))\n",
    "        if shuffle:\n",
    "            ds = ds.shuffle(steps)\n",
    "        ds = ds.batch(batch_size).repeat(num_epochs)\n",
    "        return ds\n",
    "    return input_function"
   ]
  },
  {
   "cell_type": "code",
   "execution_count": 160,
   "metadata": {},
   "outputs": [
    {
     "name": "stdout",
     "output_type": "stream",
     "text": [
      "INFO:tensorflow:Calling model_fn.\n",
      "WARNING:tensorflow:Layer linear/linear_model is casting an input tensor from dtype float64 to the layer's dtype of float32, which is new behavior in TensorFlow 2.  The layer has dtype float32 because it's dtype defaults to floatx.\n",
      "\n",
      "If you intended to run this layer in float32, you can safely ignore this warning. If in doubt, this warning is likely only an issue if you are porting a TensorFlow 1.X model to TensorFlow 2.\n",
      "\n",
      "To change all layers to have dtype float64 by default, call `tf.keras.backend.set_floatx('float64')`. To change just this layer, pass dtype='float64' to the layer constructor. If you are the author of this layer, you can disable autocasting by passing autocast=False to the base Layer constructor.\n",
      "\n",
      "INFO:tensorflow:Done calling model_fn.\n",
      "INFO:tensorflow:Create CheckpointSaverHook.\n",
      "INFO:tensorflow:Graph was finalized.\n",
      "INFO:tensorflow:Restoring parameters from train/model.ckpt-21000\n",
      "INFO:tensorflow:Running local_init_op.\n",
      "INFO:tensorflow:Done running local_init_op.\n",
      "INFO:tensorflow:Saving checkpoints for 21000 into train/model.ckpt.\n",
      "INFO:tensorflow:loss = 58.15824, step = 21000\n",
      "INFO:tensorflow:global_step/sec: 209.155\n",
      "INFO:tensorflow:loss = 58.155666, step = 21100 (0.479 sec)\n",
      "INFO:tensorflow:global_step/sec: 450.132\n",
      "INFO:tensorflow:loss = 58.1531, step = 21200 (0.222 sec)\n",
      "INFO:tensorflow:global_step/sec: 440.25\n",
      "INFO:tensorflow:loss = 58.15055, step = 21300 (0.227 sec)\n",
      "INFO:tensorflow:global_step/sec: 431.816\n",
      "INFO:tensorflow:loss = 58.14801, step = 21400 (0.232 sec)\n",
      "INFO:tensorflow:global_step/sec: 418.251\n",
      "INFO:tensorflow:loss = 58.14549, step = 21500 (0.239 sec)\n",
      "INFO:tensorflow:global_step/sec: 443.461\n",
      "INFO:tensorflow:loss = 58.142967, step = 21600 (0.225 sec)\n",
      "INFO:tensorflow:global_step/sec: 440.979\n",
      "INFO:tensorflow:loss = 58.140472, step = 21700 (0.227 sec)\n",
      "INFO:tensorflow:global_step/sec: 428.995\n",
      "INFO:tensorflow:loss = 58.137978, step = 21800 (0.233 sec)\n",
      "INFO:tensorflow:global_step/sec: 442.236\n",
      "INFO:tensorflow:loss = 58.135498, step = 21900 (0.226 sec)\n",
      "INFO:tensorflow:Saving checkpoints for 22000 into train/model.ckpt.\n",
      "INFO:tensorflow:Loss for final step: 26.703993.\n"
     ]
    }
   ],
   "source": [
    "train = estimator.train(input_fn=get_input_fn(training_set,                                       \n",
    "                                           num_epochs=None,                                      \n",
    "                                           batch_size = 128,                                      \n",
    "                                           shuffle=False),                                      \n",
    "                                           steps=1000)"
   ]
  },
  {
   "cell_type": "code",
   "execution_count": 161,
   "metadata": {},
   "outputs": [
    {
     "name": "stdout",
     "output_type": "stream",
     "text": [
      "INFO:tensorflow:Calling model_fn.\n",
      "WARNING:tensorflow:Layer linear/linear_model is casting an input tensor from dtype float64 to the layer's dtype of float32, which is new behavior in TensorFlow 2.  The layer has dtype float32 because it's dtype defaults to floatx.\n",
      "\n",
      "If you intended to run this layer in float32, you can safely ignore this warning. If in doubt, this warning is likely only an issue if you are porting a TensorFlow 1.X model to TensorFlow 2.\n",
      "\n",
      "To change all layers to have dtype float64 by default, call `tf.keras.backend.set_floatx('float64')`. To change just this layer, pass dtype='float64' to the layer constructor. If you are the author of this layer, you can disable autocasting by passing autocast=False to the base Layer constructor.\n",
      "\n",
      "INFO:tensorflow:Done calling model_fn.\n",
      "INFO:tensorflow:Starting evaluation at 2021-01-04T00:10:48Z\n",
      "INFO:tensorflow:Graph was finalized.\n",
      "INFO:tensorflow:Restoring parameters from train/model.ckpt-22000\n",
      "INFO:tensorflow:Running local_init_op.\n",
      "INFO:tensorflow:Done running local_init_op.\n",
      "INFO:tensorflow:Finished evaluation at 2021-01-04-00:10:49\n",
      "INFO:tensorflow:Saving dict for global step 22000: average_loss = 19.710777, global_step = 22000, label/mean = 22.08, loss = 19.710777, prediction/mean = 23.931835\n",
      "INFO:tensorflow:Saving 'checkpoint_path' summary for global step 22000: train/model.ckpt-22000\n"
     ]
    }
   ],
   "source": [
    "ev = estimator.evaluate(    \n",
    "          input_fn=get_input_fn(test_set,                          \n",
    "          num_epochs=1,                          \n",
    "          batch_size = 128,                          \n",
    "          shuffle=False))"
   ]
  },
  {
   "cell_type": "code",
   "execution_count": 162,
   "metadata": {},
   "outputs": [
    {
     "name": "stdout",
     "output_type": "stream",
     "text": [
      "Loss: 19.710777\n"
     ]
    }
   ],
   "source": [
    "loss_score = ev[\"loss\"]\n",
    "print(\"Loss: {0:f}\".format(loss_score))"
   ]
  },
  {
   "cell_type": "code",
   "execution_count": 163,
   "metadata": {},
   "outputs": [
    {
     "data": {
      "text/plain": [
       "count    400.000000\n",
       "mean      22.625500\n",
       "std        9.572593\n",
       "min        5.000000\n",
       "25%       16.600000\n",
       "50%       21.400000\n",
       "75%       25.025000\n",
       "max       50.000000\n",
       "Name: medv, dtype: float64"
      ]
     },
     "execution_count": 163,
     "metadata": {},
     "output_type": "execute_result"
    }
   ],
   "source": [
    "training_set[LABEL].describe()"
   ]
  },
  {
   "cell_type": "code",
   "execution_count": 164,
   "metadata": {},
   "outputs": [],
   "source": [
    "y = estimator.predict(    \n",
    "         input_fn=get_input_fn(prediction_set,                          \n",
    "         num_epochs=1,                          \n",
    "         batch_size = 128,                          \n",
    "         shuffle=False))"
   ]
  },
  {
   "cell_type": "code",
   "execution_count": 165,
   "metadata": {},
   "outputs": [
    {
     "name": "stdout",
     "output_type": "stream",
     "text": [
      "INFO:tensorflow:Calling model_fn.\n",
      "WARNING:tensorflow:Layer linear/linear_model is casting an input tensor from dtype float64 to the layer's dtype of float32, which is new behavior in TensorFlow 2.  The layer has dtype float32 because it's dtype defaults to floatx.\n",
      "\n",
      "If you intended to run this layer in float32, you can safely ignore this warning. If in doubt, this warning is likely only an issue if you are porting a TensorFlow 1.X model to TensorFlow 2.\n",
      "\n",
      "To change all layers to have dtype float64 by default, call `tf.keras.backend.set_floatx('float64')`. To change just this layer, pass dtype='float64' to the layer constructor. If you are the author of this layer, you can disable autocasting by passing autocast=False to the base Layer constructor.\n",
      "\n",
      "INFO:tensorflow:Done calling model_fn.\n",
      "INFO:tensorflow:Graph was finalized.\n",
      "INFO:tensorflow:Restoring parameters from train/model.ckpt-22000\n",
      "INFO:tensorflow:Running local_init_op.\n",
      "INFO:tensorflow:Done running local_init_op.\n",
      "Predictions: [array([35.048214], dtype=float32), array([20.16722], dtype=float32), array([24.363743], dtype=float32), array([34.904106], dtype=float32), array([14.38385], dtype=float32), array([19.95739], dtype=float32)]\n"
     ]
    }
   ],
   "source": [
    "predictions = list(p[\"predictions\"] for p in itertools.islice(y, 6))\n",
    "print(\"Predictions: {}\".format(str(predictions)))"
   ]
  },
  {
   "cell_type": "code",
   "execution_count": 166,
   "metadata": {},
   "outputs": [],
   "source": [
    "pred_dicts = list(y)\n",
    "for pred in pred_dicts:\n",
    "    print(pred[\"predictions\"][0])"
   ]
  },
  {
   "cell_type": "code",
   "execution_count": 170,
   "metadata": {},
   "outputs": [],
   "source": [
    "def predict(x):\n",
    "    examples = []\n",
    "    for index, row in x.iterrows():\n",
    "        feature = {}\n",
    "        for col, value in row.iteritems():\n",
    "            feature[col] = tf.train.Feature(float_list=tf.train.FloatList(value=[value]))\n",
    "        example = tf.train.Example(\n",
    "            features=tf.train.Features(\n",
    "                feature=feature\n",
    "            )\n",
    "        )\n",
    "        examples.append(example.SerializeToString())\n",
    "    return imported.signatures[\"predict\"](\n",
    "    examples=tf.constant(examples))"
   ]
  },
  {
   "cell_type": "code",
   "execution_count": 168,
   "metadata": {},
   "outputs": [
    {
     "name": "stdout",
     "output_type": "stream",
     "text": [
      "INFO:tensorflow:Calling model_fn.\n",
      "INFO:tensorflow:Done calling model_fn.\n",
      "INFO:tensorflow:Signatures INCLUDED in export for Classify: None\n",
      "INFO:tensorflow:Signatures INCLUDED in export for Regress: ['serving_default', 'regression']\n",
      "INFO:tensorflow:Signatures INCLUDED in export for Predict: ['predict']\n",
      "INFO:tensorflow:Signatures INCLUDED in export for Train: None\n",
      "INFO:tensorflow:Signatures INCLUDED in export for Eval: None\n",
      "INFO:tensorflow:Restoring parameters from train/model.ckpt-22000\n",
      "INFO:tensorflow:Assets added to graph.\n",
      "INFO:tensorflow:No assets to write.\n",
      "INFO:tensorflow:SavedModel written to: /var/folders/6_/8_x7k80s52vcfppnmvb31wxr0000gn/T/tmpak2cdhix/from_estimator/temp-b'1609719050'/saved_model.pb\n"
     ]
    }
   ],
   "source": [
    "tmpdir = tempfile.mkdtemp()\n",
    "estimator_base_path = os.path.join(tmpdir, 'from_estimator')\n",
    "feature_spec = tf.feature_column.make_parse_example_spec(feature_cols);\n",
    "export_input_fn = tf.estimator.export.build_parsing_serving_input_receiver_fn(feature_spec);\n",
    "estimator_path = estimator.export_saved_model(estimator_base_path, export_input_fn)\n",
    "imported = tf.saved_model.load(estimator_path)\n"
   ]
  },
  {
   "cell_type": "code",
   "execution_count": 178,
   "metadata": {},
   "outputs": [],
   "source": [
    "result = predict(prediction_set)"
   ]
  },
  {
   "cell_type": "code",
   "execution_count": 181,
   "metadata": {},
   "outputs": [
    {
     "name": "stdout",
     "output_type": "stream",
     "text": [
      "[[35.048214]\n",
      " [20.16722 ]\n",
      " [24.363743]\n",
      " [34.904106]\n",
      " [14.38385 ]\n",
      " [19.95739 ]]\n"
     ]
    }
   ],
   "source": [
    "print(result[\"predictions\"].numpy())"
   ]
  }
 ],
 "metadata": {
  "kernelspec": {
   "display_name": "Python 3",
   "language": "python",
   "name": "python3"
  },
  "language_info": {
   "codemirror_mode": {
    "name": "ipython",
    "version": 3
   },
   "file_extension": ".py",
   "mimetype": "text/x-python",
   "name": "python",
   "nbconvert_exporter": "python",
   "pygments_lexer": "ipython3",
   "version": "3.7.9"
  }
 },
 "nbformat": 4,
 "nbformat_minor": 4
}
