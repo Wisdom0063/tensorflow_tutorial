{
 "cells": [
  {
   "cell_type": "code",
   "execution_count": 31,
   "id": "finnish-johnson",
   "metadata": {},
   "outputs": [],
   "source": [
    "import tensorflow as tf"
   ]
  },
  {
   "cell_type": "code",
   "execution_count": 34,
   "id": "micro-debate",
   "metadata": {},
   "outputs": [],
   "source": [
    "import numpy as np"
   ]
  },
  {
   "cell_type": "code",
   "execution_count": 35,
   "id": "posted-sender",
   "metadata": {},
   "outputs": [],
   "source": [
    "import os"
   ]
  },
  {
   "cell_type": "code",
   "execution_count": 17,
   "id": "sonic-finance",
   "metadata": {},
   "outputs": [],
   "source": [
    "batch_size = 32\n",
    "img_height = 180\n",
    "img_width = 180"
   ]
  },
  {
   "cell_type": "code",
   "execution_count": 27,
   "id": "joint-surfing",
   "metadata": {},
   "outputs": [],
   "source": [
    "class_names = [\"masked\", \"not_masked\"]"
   ]
  },
  {
   "cell_type": "code",
   "execution_count": 30,
   "id": "unusual-testimony",
   "metadata": {},
   "outputs": [],
   "source": [
    "model = tf.keras.models.load_model('/Users/wisdom/Downloads')"
   ]
  },
  {
   "cell_type": "code",
   "execution_count": 45,
   "id": "substantial-ecology",
   "metadata": {},
   "outputs": [
    {
     "name": "stdout",
     "output_type": "stream",
     "text": [
      "tf.Tensor(\n",
      "[[[[227. 223. 212.]\n",
      "   [227. 223. 212.]\n",
      "   [228. 224. 213.]\n",
      "   ...\n",
      "   [223. 216. 206.]\n",
      "   [223. 216. 206.]\n",
      "   [223. 216. 206.]]\n",
      "\n",
      "  [[229. 224. 218.]\n",
      "   [229. 224. 218.]\n",
      "   [229. 224. 218.]\n",
      "   ...\n",
      "   [224. 217. 207.]\n",
      "   [224. 217. 207.]\n",
      "   [224. 217. 207.]]\n",
      "\n",
      "  [[229. 224. 218.]\n",
      "   [229. 224. 218.]\n",
      "   [229. 224. 218.]\n",
      "   ...\n",
      "   [225. 218. 208.]\n",
      "   [224. 217. 207.]\n",
      "   [224. 217. 207.]]\n",
      "\n",
      "  ...\n",
      "\n",
      "  [[151.  61. 219.]\n",
      "   [153.  58. 222.]\n",
      "   [141.  46. 208.]\n",
      "   ...\n",
      "   [118.  21. 176.]\n",
      "   [ 95.   0. 153.]\n",
      "   [112.  11. 169.]]\n",
      "\n",
      "  [[138.  41. 209.]\n",
      "   [141.  42. 210.]\n",
      "   [152.  52. 226.]\n",
      "   ...\n",
      "   [128.  37. 192.]\n",
      "   [126.  32. 188.]\n",
      "   [114.  19. 173.]]\n",
      "\n",
      "  [[161.  65. 233.]\n",
      "   [162.  65. 232.]\n",
      "   [150.  48. 218.]\n",
      "   ...\n",
      "   [133.  39. 195.]\n",
      "   [133.  39. 195.]\n",
      "   [131.  40. 193.]]]], shape=(1, 180, 180, 3), dtype=float32)\n",
      "This image most likely belongs to masked with a 100.00 percent confidence.\n"
     ]
    }
   ],
   "source": [
    "sunflower_url = 'https://cdn.shopify.com/s/files/1/0257/9152/8994/products/20200416_184756_2_800x.jpg?v=1587430098'\n",
    "sunflower_path = tf.keras.utils.get_file('not_m_3', origin=sunflower_url)\n",
    "\n",
    "img = tf.keras.preprocessing.image.load_img(\n",
    "    sunflower_path, target_size=(img_height, img_width)\n",
    ")\n",
    "img_array = tf.keras.preprocessing.image.img_to_array(img)\n",
    "img_array = tf.expand_dims(img_array, 0) # Create a batch\n",
    "print(img_array)\n",
    "\n",
    "predictions = model.predict(img_array)\n",
    "score = tf.nn.softmax(predictions[0])\n",
    "\n",
    "print(\n",
    "    \"This image most likely belongs to {} with a {:.2f} percent confidence.\"\n",
    "    .format(class_names[np.argmax(score)], 100 * np.max(score))\n",
    ")"
   ]
  },
  {
   "cell_type": "code",
   "execution_count": 41,
   "id": "understanding-handling",
   "metadata": {},
   "outputs": [
    {
     "name": "stdout",
     "output_type": "stream",
     "text": [
      "20200416_184756_2_800x.jpg?v=1587430098\n"
     ]
    }
   ],
   "source": [
    "    parts = sunflower_url.split(os.path.sep)\n",
    "    print(parts[-1])"
   ]
  }
 ],
 "metadata": {
  "kernelspec": {
   "display_name": "Python 3",
   "language": "python",
   "name": "python3"
  },
  "language_info": {
   "codemirror_mode": {
    "name": "ipython",
    "version": 3
   },
   "file_extension": ".py",
   "mimetype": "text/x-python",
   "name": "python",
   "nbconvert_exporter": "python",
   "pygments_lexer": "ipython3",
   "version": "3.7.9"
  }
 },
 "nbformat": 4,
 "nbformat_minor": 5
}
